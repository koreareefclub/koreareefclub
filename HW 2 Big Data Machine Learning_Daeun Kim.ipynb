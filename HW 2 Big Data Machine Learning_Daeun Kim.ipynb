{
 "cells": [
  {
   "cell_type": "code",
   "execution_count": 1,
   "metadata": {
    "collapsed": true
   },
   "outputs": [],
   "source": [
    "## HWK2 using PCA for Stock Prices\n",
    "# 1. Get historical stock price data from yahoo for Dow Jones 30 constituents, \n",
    "# 2. Compute the cov matrix from scaled data\n",
    "# 3. Use np.linalg.eig(cov_mat)\n",
    "# 4. Compute and examine eigen_vectors and eigen_values\n",
    "#\n",
    "# More challenging problems\n",
    "# 5. Try to identify the 1st principle component, what do you think it is?\n",
    "# 6. Predict next days returns for 'AAPL' using all your data and all your algos\n",
    "#    use 10-fold cross validation\n",
    "# 7. Would you trade this ML Stock prediction model? \n",
    "#   Why or why not? Did you make any inadvertent 'cheats'? "
   ]
  },
  {
   "cell_type": "code",
   "execution_count": null,
   "metadata": {
    "collapsed": false
   },
   "outputs": [],
   "source": [
    "#>>> import csv\n",
    "#>>> with open('Dow Jones 30.csv', 'rb') as csvfile:\n",
    "#...     dow = csv.reader(csvfile, delimiter=' ', quotechar='|')\n"
   ]
  },
  {
   "cell_type": "code",
   "execution_count": null,
   "metadata": {
    "collapsed": true
   },
   "outputs": [],
   "source": []
  },
  {
   "cell_type": "code",
   "execution_count": 9,
   "metadata": {
    "collapsed": true
   },
   "outputs": [],
   "source": [
    "import numpy as np\n",
    "import pandas as pd\n",
    "import pandas_datareader.data as web\n",
    "import datetime as dt\n",
    "from sklearn.preprocessing import StandardScaler, MinMaxScaler\n",
    "\n",
    "def get_prices(ticks, st, ed):\n",
    "# This function gets Adjusted Closing prices from Yahoo Finance\n",
    "# returns a DataFrame. Inputs are ticks (list of tickers), st (start date), ed (end date)\n",
    "    for idx, ticker in enumerate(ticks):\n",
    "        print(ticker)\n",
    "        f = web.DataReader(ticker, 'yahoo', st, ed)['Adj Close']\n",
    "        f.name = ticker\n",
    "        if idx==0:\n",
    "            df = f\n",
    "        else:\n",
    "            df = pd.concat([df, f], axis=1)\n",
    "        return df"
   ]
  },
  {
   "cell_type": "code",
   "execution_count": 15,
   "metadata": {
    "collapsed": false
   },
   "outputs": [
    {
     "name": "stdout",
     "output_type": "stream",
     "text": [
      "['MMM', 'AXP', 'AAPL', 'BA', 'CAT', 'CVX', 'CSCO', 'KO', 'DIS', 'DD', 'XOM', 'GE', 'GS', 'HD', 'IBM', 'INTC', 'JNJ', 'JPM', 'MCD', 'MRK', 'MSFT', 'NKE', 'PFE', 'PG', 'TRV', 'UTX', 'UNH', 'VZ', 'V', 'WMT']\n",
      "(1257, 30)\n",
      " \n",
      "Standard deviation of the columns: [ 1.  1.  1.  1.  1.  1.  1.  1.  1.  1.  1.  1.  1.  1.  1.  1.  1.  1.\n",
      "  1.  1.  1.  1.  1.  1.  1.  1.  1.  1.  1.  1.]\n",
      "Mean of columns:  [  2.82634342e-18   1.13053737e-17  -1.69580605e-17   2.82634342e-18\n",
      "  -1.27185454e-17  -2.82634342e-18  -2.82634342e-17   2.54370908e-17\n",
      "  -8.47903026e-18   2.82634342e-18   9.89220197e-18  -1.13053737e-17\n",
      "   1.34251312e-17   1.41317171e-17  -1.83712322e-17  -4.23951513e-18\n",
      "  -2.22574544e-17   1.41317171e-17  -2.82634342e-17  -1.41317171e-18\n",
      "  -5.65268684e-18  -2.82634342e-18   1.41317171e-18   9.89220197e-18\n",
      "   2.40239191e-17  -2.82634342e-18   4.23951513e-18   2.54370908e-17\n",
      "  -2.82634342e-18   5.65268684e-18]\n",
      "\n",
      "EigenValues \n",
      "[ 12.99169106   1.50433772   1.15293365   0.99315055   0.89203804\n",
      "   0.18196772   0.1866922    0.77736804   0.74322635   0.28895256\n",
      "   0.71063245   0.69261908   0.32443405   0.67698769   0.34570049\n",
      "   0.37376568   0.61631036   0.61042425   0.59788342   0.40375638\n",
      "   0.57389535   0.565134     0.42076061   0.44600952   0.45386305\n",
      "   0.47374847   0.52434725   0.4939385    0.50090912   0.50640773]\n"
     ]
    }
   ],
   "source": [
    "tickers = [['MMM','AXP','AAPL','BA','CAT','CVX','CSCO','KO','DIS','DD',\n",
    "          'XOM','GE','GS','HD','IBM','INTC','JNJ','JPM','MCD','MRK','MSFT',\n",
    "          'NKE','PFE','PG','TRV','UTX','UNH','VZ','V','WMT']]\n",
    "\n",
    "\n",
    "start = dt.datetime(2011, 11, 7)\n",
    "end   = dt.datetime.today()\n",
    "\n",
    "df = get_prices(tickers, start, end)\n",
    "df = df.pct_change().dropna()\n",
    "\n",
    "X = df\n",
    "\n",
    "# scale X's\n",
    "sc = StandardScaler() # x(i)_new = (x(i) - mean(x))/std(x)\n",
    "#sc = MinMaxScaler()   # x(i)_new = (x(i) - min(x))/(max(x)-min(x))\n",
    "\n",
    "sc.fit(X)\n",
    "X_std = sc.transform(X)\n",
    "print(X_std.shape)\n",
    "print(' ')\n",
    "print('Standard deviation of the columns:', X_std.std(axis=0))\n",
    "print('Mean of columns: ', X_std.mean(axis=0))\n",
    "\n",
    "cov_mat = np.cov(X_std.T) # careful here need to transpose \"X\" \n",
    "eigen_vals, eigen_vecs = np.linalg.eig(cov_mat)\n",
    "print('\\nEigenValues \\n%s' % eigen_vals)"
   ]
  },
  {
   "cell_type": "code",
   "execution_count": 16,
   "metadata": {
    "collapsed": false
   },
   "outputs": [
    {
     "data": {
      "image/png": "[encoded data removed]",
      "text/plain": [
       "<matplotlib.figure.Figure at 0x6104ef0>"
      ]
     },
     "metadata": {},
     "output_type": "display_data"
    }
   ],
   "source": [
    "tot = sum(eigen_vals)\n",
    "var_exp = [(i/tot) for i in sorted(eigen_vals, reverse = True)]\n",
    "cum_var_exp = np.cumsum(var_exp)\n",
    "\n",
    "import matplotlib.pyplot as plt\n",
    "plt.bar(range(1,len(var_exp)+1), var_exp, alpha = 0.5, align = 'center',\n",
    "        label = 'Individual Explained Variance')\n",
    "plt.step(range(1,len(var_exp)+1), cum_var_exp, where='mid',\n",
    "        label = 'Cumulative Explained Variance')\n",
    "plt.ylabel('Explained Variance Ratio')\n",
    "plt.xlabel('Principal Components')\n",
    "plt.legend(loc='best')\n",
    "plt.show()"
   ]
  },
  {
   "cell_type": "code",
   "execution_count": 17,
   "metadata": {
    "collapsed": false
   },
   "outputs": [
    {
     "name": "stdout",
     "output_type": "stream",
     "text": [
      "(30, 2)\n"
     ]
    }
   ],
   "source": [
    "eigen_pairs = [(np.abs(eigen_vals[i]), eigen_vecs[:,i]) \n",
    "              for i in range(len(eigen_vals))]\n",
    "eigen_pairs.sort(reverse=True)\n",
    "\n",
    "W = np.hstack((eigen_pairs[0][1][:, np.newaxis], eigen_pairs[1][1][:, np.newaxis]))\n",
    "print(W.shape)\n",
    "\n",
    "f1 = X.dot(W[:,0])\n",
    "f2 = X.dot(W[:,1])"
   ]
  },
  {
   "cell_type": "code",
   "execution_count": null,
   "metadata": {
    "collapsed": true
   },
   "outputs": [],
   "source": []
  },
  {
   "cell_type": "code",
   "execution_count": 18,
   "metadata": {
    "collapsed": false
   },
   "outputs": [
    {
     "name": "stdout",
     "output_type": "stream",
     "text": [
      "Date\n",
      "2011-11-08   -0.026955\n",
      "2011-11-09   -0.025450\n",
      "2011-11-10   -0.001558\n",
      "2011-11-11   -0.013936\n",
      "2011-11-14    0.025233\n",
      "2011-11-15   -0.010442\n",
      "2011-11-16   -0.019128\n",
      "2011-11-17   -0.006545\n",
      "2011-11-18   -0.015816\n",
      "2011-11-21    0.020325\n",
      "2011-11-22   -0.025285\n",
      "2011-11-23   -0.009319\n",
      "2011-11-25    0.034519\n",
      "2011-11-28   -0.007764\n",
      "2011-11-29    0.024116\n",
      "2011-11-30    0.014992\n",
      "2011-12-01    0.004563\n",
      "2011-12-02    0.008494\n",
      "2011-12-05   -0.005242\n",
      "2011-12-06   -0.004758\n",
      "2011-12-07    0.004035\n",
      "2011-12-08    0.007577\n",
      "2011-12-09   -0.004522\n",
      "2011-12-12   -0.007733\n",
      "2011-12-13   -0.022170\n",
      "2011-12-14   -0.003288\n",
      "2011-12-15    0.005489\n",
      "2011-12-16    0.003123\n",
      "2011-12-19    0.035949\n",
      "2011-12-20    0.001263\n",
      "                ...   \n",
      "2016-09-26    0.001860\n",
      "2016-09-27    0.007605\n",
      "2016-09-28   -0.015533\n",
      "2016-09-29    0.007755\n",
      "2016-09-30   -0.004688\n",
      "2016-10-03    0.004266\n",
      "2016-10-04    0.000443\n",
      "2016-10-05    0.007430\n",
      "2016-10-06    0.001493\n",
      "2016-10-07    0.017447\n",
      "2016-10-10    0.002154\n",
      "2016-10-11    0.008942\n",
      "2016-10-12   -0.003068\n",
      "2016-10-13    0.005556\n",
      "2016-10-14   -0.000680\n",
      "2016-10-17   -0.000681\n",
      "2016-10-18   -0.002979\n",
      "2016-10-19   -0.000512\n",
      "2016-10-20   -0.003930\n",
      "2016-10-21    0.009005\n",
      "2016-10-24    0.005100\n",
      "2016-10-25   -0.022495\n",
      "2016-10-26   -0.009603\n",
      "2016-10-27   -0.006639\n",
      "2016-10-28   -0.001583\n",
      "2016-10-31   -0.018055\n",
      "2016-11-01    0.000897\n",
      "2016-11-02   -0.010719\n",
      "2016-11-03   -0.009014\n",
      "2016-11-04         NaN\n",
      "Name: AAPL, dtype: float64\n",
      "[-1 -1 -1 ..., -1 -1 -1]\n",
      "<class 'numpy.ndarray'> <class 'numpy.ndarray'>\n",
      "(1257, 30) (1257,)\n"
     ]
    }
   ],
   "source": [
    "y =  df['AAPL'].shift(-1)\n",
    "print(y)\n",
    "# next day's returns????????????\n",
    "y = y.fillna(0)\n",
    "y = np.where(y > 0, 1, -1)\n",
    "\n",
    "X = df.values\n",
    "print(y)\n",
    "print(type(X),type(y))\n",
    "print(X.shape, y.shape)\n"
   ]
  },
  {
   "cell_type": "code",
   "execution_count": null,
   "metadata": {
    "collapsed": false
   },
   "outputs": [],
   "source": [
    "from sklearn.model_selection import train_test_split\n",
    "from sklearn.preprocessing import StandardScaler\n",
    "\n",
    "#import warnings\n",
    "#warnings.filterwarnings(\"ignore\")\n",
    "\n",
    "from sklearn.linear_model import Perceptron, LogisticRegression\n",
    "from sklearn.svm import SVC\n",
    "from sklearn.tree import DecisionTreeClassifier\n",
    "from sklearn.ensemble import RandomForestClassifier\n",
    "from sklearn.neural_network import MLPClassifier\n",
    "from sklearn.naive_bayes import GaussianNB\n",
    "from sklearn.neighbors import KNeighborsClassifier\n",
    "\n",
    "from sklearn.model_selection import cross_val_score\n",
    "\n",
    "names = [\"Perceptron\",\n",
    "         \"LogisticRegression\",\n",
    "         \"Linear SVM\", \n",
    "         \"Decision Tree\", \n",
    "         \"Random Forest\", \n",
    "         \"RBF SVM\",          \n",
    "         \"Neural Net\", \n",
    "         \"Naive Bayes\",  \n",
    "         \"Nearest Neighbors\"] \n",
    "\n",
    "classifiers = [\n",
    "    Perceptron(),\n",
    "    LogisticRegression(),\n",
    "    SVC(kernel=\"linear\", C=1),\n",
    "    DecisionTreeClassifier(max_depth=5),\n",
    "    RandomForestClassifier(max_depth=5, n_estimators=100, max_features=1),\n",
    "    SVC(kernel='rbf',gamma=2, C=1),\n",
    "    MLPClassifier(hidden_layer_sizes=(100,50), alpha=1),\n",
    "    GaussianNB(),\n",
    "    KNeighborsClassifier(5)]\n",
    "\n",
    "X_train, X_test, y_train, y_test = train_test_split(X, y, \n",
    "                            test_size=0.3, \n",
    "                            random_state=0)\n",
    "\n",
    "for name, clf in zip(names, classifiers):\n",
    "    clf.fit(X_train, y_train)\n",
    "    score = clf.score(X_test, y_test)\n",
    "    print(\"Algo: {0:<20s} and Score: {1:0.4f}\".format(name, score))"
   ]
  },
  {
   "cell_type": "code",
   "execution_count": null,
   "metadata": {
    "collapsed": false
   },
   "outputs": [],
   "source": [
    "from sklearn.model_selection import cross_val_score\n",
    "\n",
    "for name, clf in zip(names, classifiers):    \n",
    "    scores = cross_val_score(clf, X, y, cv=10)\n",
    "    print(\"Algo: {0:<20s} and Score: {1:0.4f}\".format(name, np.mean(scores)))\n"
   ]
  },
  {
   "cell_type": "code",
   "execution_count": null,
   "metadata": {
    "collapsed": true
   },
   "outputs": [],
   "source": [
    "#"
   ]
  }
 ],
 "metadata": {
  "anaconda-cloud": {},
  "kernelspec": {
   "display_name": "Python [default]",
   "language": "python",
   "name": "python3"
  },
  "language_info": {
   "codemirror_mode": {
    "name": "ipython",
    "version": 3
   },
   "file_extension": ".py",
   "mimetype": "text/x-python",
   "name": "python",
   "nbconvert_exporter": "python",
   "pygments_lexer": "ipython3",
   "version": "3.5.2"
  }
 },
 "nbformat": 4,
 "nbformat_minor": 1
}
